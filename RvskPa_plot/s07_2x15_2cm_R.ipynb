{
 "cells": [
  {
   "cell_type": "code",
   "execution_count": 1,
   "metadata": {},
   "outputs": [],
   "source": [
    "import pandas as pd\n",
    "import numpy as np\n",
    "import matplotlib.pyplot as plt\n",
    "from scipy import stats\n"
   ]
  },
  {
   "cell_type": "code",
   "execution_count": 2,
   "metadata": {},
   "outputs": [],
   "source": [
    "# def get_avg_flow_and_samples(filename):\n",
    "#     df = pd.read_csv(filename, skiprows=14, usecols=['Relative Time[s]', 'Flow [ul/min]']) \n",
    "#     avg_flow = df[\"Flow [ul/min]\"].mean()\n",
    "#     num_samples_count = df.shape[0]\n",
    "#     return avg_flow, num_samples_count"
   ]
  },
  {
   "cell_type": "code",
   "execution_count": 3,
   "metadata": {},
   "outputs": [],
   "source": [
    "\n",
    "def get_avg_flow_and_samples(filename):\n",
    "    df = pd.read_csv(filename, skiprows=14, usecols=['Relative Time[s]', 'Flow [ul/min]']) \n",
    "    avg_flow = df[\"Flow [ul/min]\"].mean() - 0.01683716564992958\n",
    "    num_samples_count = df.shape[0]\n",
    "    return avg_flow, num_samples_count\n",
    "\n",
    "\n",
    "kPa_s07_2x15 = [\"n40\", \"n30\", \"n20\", \"n10\",  \"0\", '10', \"20\", \"30\", \"40\",'50', '60', '70']\n",
    "avg_flows = []\n",
    "num_samples = []\n",
    "\n",
    "\n",
    "for i in kPa_s07_2x15:\n",
    "    filename = f\"s07_2x15/s07_2x15_2cm_{i}kPa_trial1_R.csv\"\n",
    "    avg_flow, num_samples_count = get_avg_flow_and_samples(filename)\n",
    "    avg_flows.append(avg_flow)\n",
    "    num_samples.append(num_samples_count)"
   ]
  },
  {
   "cell_type": "code",
   "execution_count": 4,
   "metadata": {},
   "outputs": [
    {
     "data": {
      "image/png": "[encoded data removed]",
      "text/plain": [
       "<Figure size 432x288 with 1 Axes>"
      ]
     },
     "metadata": {
      "needs_background": "light"
     },
     "output_type": "display_data"
    }
   ],
   "source": [
    "plt.scatter(kPa_s07_2x15, avg_flows)\n",
    "\n",
    "plt.title('Q vs kPa for 3x2')\n",
    "plt.xlabel('kPa')\n",
    "plt.ylabel('Q')\n",
    "plt.show()"
   ]
  },
  {
   "cell_type": "code",
   "execution_count": 5,
   "metadata": {},
   "outputs": [
    {
     "data": {
      "text/plain": [
       "[0.0037823341132796028,\n",
       " 0.004614387786561109,\n",
       " 0.005369057043940036,\n",
       " 0.006264867890828571,\n",
       " 0.008418843498806158,\n",
       " 0.11128062091351529,\n",
       " 0.25109034981900613,\n",
       " 0.5340634022740591,\n",
       " 1.0475385262303472,\n",
       " 2.3168775867025797,\n",
       " 12.503081188600044,\n",
       " 68.90713712567171]"
      ]
     },
     "execution_count": 5,
     "metadata": {},
     "output_type": "execute_result"
    }
   ],
   "source": [
    "pgh = 1000 * 9.81 * 2E-2 /133 #mmHg\n",
    "\n",
    "R_tot = [pgh / i for i in avg_flows] #mmHg/(ul/min)\n",
    "\n",
    "Rtube = 0.014240827419038489\n",
    "\n",
    "R_s07_2x15 = [i - Rtube  for i in R_tot] #mmHg/(ul/min)\n",
    "R_s07_2x15 =[ abs(i) for i in R_s07_2x15 ]\n",
    "\n",
    "R_s07_2x15 \n"
   ]
  },
  {
   "cell_type": "code",
   "execution_count": 6,
   "metadata": {},
   "outputs": [
    {
     "data": {
      "text/plain": [
       "[-40, -30, -20, -10, 0, 10, 20, 30, 40, 50, 60, 70]"
      ]
     },
     "execution_count": 6,
     "metadata": {},
     "output_type": "execute_result"
    }
   ],
   "source": [
    "# Convert the 'kPa' list elements to numerical values\n",
    "kPa_s07_2x15 = [-int(i[1:]) if i[0] == 'n' else int(i) for i in kPa_s07_2x15]\n",
    "\n",
    "kPa_s07_2x15"
   ]
  },
  {
   "cell_type": "code",
   "execution_count": 7,
   "metadata": {},
   "outputs": [
    {
     "data": {
      "image/png": "[encoded data removed]",
      "text/plain": [
       "<Figure size 432x288 with 1 Axes>"
      ]
     },
     "metadata": {
      "needs_background": "light"
     },
     "output_type": "display_data"
    }
   ],
   "source": [
    "\n",
    "plt.scatter(kPa_s07_2x15, R_s07_2x15)\n",
    "\n",
    "plt.title('Scatter plot of R vs kPa')\n",
    "plt.xlabel('kPa')\n",
    "plt.ylabel('R')\n",
    "plt.show()\n"
   ]
  },
  {
   "cell_type": "code",
   "execution_count": 8,
   "metadata": {},
   "outputs": [
    {
     "data": {
      "image/png": "[encoded data removed]",
      "text/plain": [
       "<Figure size 432x288 with 1 Axes>"
      ]
     },
     "metadata": {
      "needs_background": "light"
     },
     "output_type": "display_data"
    }
   ],
   "source": [
    "\n",
    "# Convert to numpy arrays\n",
    "kPa_np = np.array(kPa_s07_2x15)\n",
    "R_np = np.array(R_s07_2x15)\n",
    "\n",
    "# Apply a natural logarithmic transformation to R\n",
    "R_log = np.log(R_np)\n",
    "\n",
    "# Use polyfit to fit a 1-degree polynomial to kPa and log(R)\n",
    "coeffs = np.polyfit(kPa_np, R_log, 1)\n",
    "\n",
    "# Generate a sequence of x values spanning the range of kPa\n",
    "x_vals = np.linspace(min(kPa_np), max(kPa_np), 1000)\n",
    "\n",
    "# Calculate the corresponding y values for the best fit line\n",
    "y_vals = np.exp(coeffs[1]) * np.exp(coeffs[0] * x_vals)\n",
    "\n",
    "# Plot the data\n",
    "plt.scatter(kPa_np, R_np, label='Data')\n",
    "plt.plot(x_vals, y_vals, color='red', label='Exponential fit')\n",
    "\n",
    "plt.title('Scatter plot of R vs kPa with Exponential Fit')\n",
    "plt.xlabel('kPa')\n",
    "plt.ylabel('R')\n",
    "plt.legend()\n",
    "plt.show()\n"
   ]
  }
 ],
 "metadata": {
  "kernelspec": {
   "display_name": "base",
   "language": "python",
   "name": "python3"
  },
  "language_info": {
   "codemirror_mode": {
    "name": "ipython",
    "version": 3
   },
   "file_extension": ".py",
   "mimetype": "text/x-python",
   "name": "python",
   "nbconvert_exporter": "python",
   "pygments_lexer": "ipython3",
   "version": "3.8.3"
  },
  "orig_nbformat": 4
 },
 "nbformat": 4,
 "nbformat_minor": 2
}
