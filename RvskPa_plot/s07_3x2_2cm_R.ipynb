{
 "cells": [
  {
   "cell_type": "code",
   "execution_count": 2,
   "metadata": {},
   "outputs": [],
   "source": [
    "import pandas as pd\n",
    "import numpy as np\n",
    "import matplotlib.pyplot as plt\n",
    "from scipy import stats\n"
   ]
  },
  {
   "cell_type": "code",
   "execution_count": 3,
   "metadata": {},
   "outputs": [],
   "source": [
    "# def get_avg_flow_and_samples(filename):\n",
    "#     df = pd.read_csv(filename, skiprows=14, usecols=['Relative Time[s]', 'Flow [ul/min]']) \n",
    "#     avg_flow = df[\"Flow [ul/min]\"].mean()\n",
    "#     num_samples_count = df.shape[0]\n",
    "#     return avg_flow, num_samples_count"
   ]
  },
  {
   "cell_type": "code",
   "execution_count": 4,
   "metadata": {},
   "outputs": [],
   "source": [
    "\n",
    "def get_avg_flow_and_samples(filename):\n",
    "    df = pd.read_csv(filename, skiprows=14, usecols=['Relative Time[s]', 'Flow [ul/min]']) \n",
    "    avg_flow = df[\"Flow [ul/min]\"].mean() - 0.01683716564992958\n",
    "    num_samples_count = df.shape[0]\n",
    "    return avg_flow, num_samples_count\n",
    "\n",
    "\n",
    "kPa_s07_3x2 = [\"n40\", \"n30\", \"n20\", \"n10\",  \"0\", '10', \"20\", \"30\", \"40\",'50']\n",
    "avg_flows = []\n",
    "num_samples = []\n",
    "\n",
    "\n",
    "for i in kPa_s07_3x2:\n",
    "    filename = f\"s07_3x2_R/s07_3x2_2cm_{i}kPa_trial2_R.csv\"\n",
    "    avg_flow, num_samples_count = get_avg_flow_and_samples(filename)\n",
    "    avg_flows.append(avg_flow)\n",
    "    num_samples.append(num_samples_count)"
   ]
  },
  {
   "cell_type": "code",
   "execution_count": 5,
   "metadata": {},
   "outputs": [
    {
     "data": {
      "image/png": "[encoded data removed]",
      "text/plain": [
       "<Figure size 432x288 with 1 Axes>"
      ]
     },
     "metadata": {
      "needs_background": "light"
     },
     "output_type": "display_data"
    }
   ],
   "source": [
    "plt.scatter(kPa_s07_3x2, avg_flows)\n",
    "\n",
    "plt.title('Q vs kPa for 3x2')\n",
    "plt.xlabel('kPa')\n",
    "plt.ylabel('Q')\n",
    "plt.show()"
   ]
  },
  {
   "cell_type": "code",
   "execution_count": 6,
   "metadata": {},
   "outputs": [
    {
     "data": {
      "text/plain": [
       "[46.03612116768342,\n",
       " 45.28222313585761,\n",
       " 44.71761193614645,\n",
       " 43.91548961567684,\n",
       " 41.90871498158934,\n",
       " 12.947764730084671,\n",
       " 7.656572408818164,\n",
       " 4.518360066183979,\n",
       " 1.939627464575149,\n",
       " -0.006053832316596241]"
      ]
     },
     "execution_count": 6,
     "metadata": {},
     "output_type": "execute_result"
    }
   ],
   "source": [
    "avg_flows"
   ]
  },
  {
   "cell_type": "code",
   "execution_count": 7,
   "metadata": {},
   "outputs": [
    {
     "data": {
      "text/plain": [
       "[0.017803313844547572,\n",
       " 0.01833681271799479,\n",
       " 0.018748142833471308,\n",
       " 0.01935069080914957,\n",
       " 0.020959201276016172,\n",
       " 0.09969296738472028,\n",
       " 0.17842867156275405,\n",
       " 0.3122466477526105,\n",
       " 0.7463113903997236,\n",
       " 243.69260731944544]"
      ]
     },
     "execution_count": 7,
     "metadata": {},
     "output_type": "execute_result"
    }
   ],
   "source": [
    "pgh = 1000 * 9.81 * 2E-2 /133 #mmHg\n",
    "\n",
    "R_tot = [pgh / i for i in avg_flows] #mmHg/(ul/min)\n",
    "\n",
    "Rtube = 0.014240827419038489\n",
    "\n",
    "R_s07_3x2 = [i - Rtube  for i in R_tot] #mmHg/(ul/min)\n",
    "R_s07_3x2 =[ abs(i) for i in R_s07_3x2 ]\n",
    "\n",
    "R_s07_3x2 \n"
   ]
  },
  {
   "cell_type": "code",
   "execution_count": 8,
   "metadata": {},
   "outputs": [
    {
     "data": {
      "text/plain": [
       "[-40, -30, -20, -10, 0, 10, 20, 30, 40, 50]"
      ]
     },
     "execution_count": 8,
     "metadata": {},
     "output_type": "execute_result"
    }
   ],
   "source": [
    "# Convert the 'kPa' list elements to numerical values\n",
    "kPa_s07_3x2 = [-int(i[1:]) if i[0] == 'n' else int(i) for i in kPa_s07_3x2]\n",
    "\n",
    "kPa_s07_3x2"
   ]
  },
  {
   "cell_type": "code",
   "execution_count": 9,
   "metadata": {},
   "outputs": [
    {
     "data": {
      "image/png": "[encoded data removed]",
      "text/plain": [
       "<Figure size 432x288 with 1 Axes>"
      ]
     },
     "metadata": {
      "needs_background": "light"
     },
     "output_type": "display_data"
    }
   ],
   "source": [
    "\n",
    "plt.scatter(kPa_s07_3x2, R_s07_3x2)\n",
    "\n",
    "plt.title('Scatter plot of R vs kPa')\n",
    "plt.xlabel('kPa')\n",
    "plt.ylabel('R')\n",
    "plt.show()\n"
   ]
  },
  {
   "cell_type": "code",
   "execution_count": 10,
   "metadata": {},
   "outputs": [
    {
     "data": {
      "image/png": "[encoded data removed]",
      "text/plain": [
       "<Figure size 432x288 with 1 Axes>"
      ]
     },
     "metadata": {
      "needs_background": "light"
     },
     "output_type": "display_data"
    }
   ],
   "source": [
    "\n",
    "# Convert to numpy arrays\n",
    "kPa_np = np.array(kPa_s07_3x2)\n",
    "R_np = np.array(R_s07_3x2)\n",
    "\n",
    "# Apply a natural logarithmic transformation to R\n",
    "R_log = np.log(R_np)\n",
    "\n",
    "# Use polyfit to fit a 1-degree polynomial to kPa and log(R)\n",
    "coeffs = np.polyfit(kPa_np, R_log, 1)\n",
    "\n",
    "# Generate a sequence of x values spanning the range of kPa\n",
    "x_vals = np.linspace(min(kPa_np), max(kPa_np), 1000)\n",
    "\n",
    "# Calculate the corresponding y values for the best fit line\n",
    "y_vals = np.exp(coeffs[1]) * np.exp(coeffs[0] * x_vals)\n",
    "\n",
    "# Plot the data\n",
    "plt.scatter(kPa_np, R_np, label='Data')\n",
    "plt.plot(x_vals, y_vals, color='red', label='Exponential fit')\n",
    "\n",
    "plt.title('Scatter plot of R vs kPa with Exponential Fit')\n",
    "plt.xlabel('kPa')\n",
    "plt.ylabel('R')\n",
    "plt.legend()\n",
    "plt.show()\n"
   ]
  },
  {
   "cell_type": "code",
   "execution_count": null,
   "metadata": {},
   "outputs": [],
   "source": [
    "size =0 \n",
    "numbers[0]=1\n",
    "numbers[1]=3\n",
    "numbers[5]=5\n",
    "size =3\n",
    "\n",
    "j=0\n",
    "total =0\n",
    "while j< size  \n",
    "    total = total + numbers[j]\n",
    "    j=j+2\n",
    "\n",
    "end\n",
    "\n",
    "print total\n",
    "\n"
   ]
  }
 ],
 "metadata": {
  "kernelspec": {
   "display_name": "base",
   "language": "python",
   "name": "python3"
  },
  "language_info": {
   "codemirror_mode": {
    "name": "ipython",
    "version": 3
   },
   "file_extension": ".py",
   "mimetype": "text/x-python",
   "name": "python",
   "nbconvert_exporter": "python",
   "pygments_lexer": "ipython3",
   "version": "3.8.3"
  },
  "orig_nbformat": 4
 },
 "nbformat": 4,
 "nbformat_minor": 2
}
